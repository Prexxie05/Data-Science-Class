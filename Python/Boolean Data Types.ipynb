{
 "cells": [
  {
   "cell_type": "markdown",
   "id": "016667f2-2299-4653-ae28-6d66a0dd19a8",
   "metadata": {},
   "source": [
    "# BOOLEAN DATA TYPES"
   ]
  },
  {
   "cell_type": "code",
   "execution_count": 2,
   "id": "3c6c71a9-9a28-4568-b09a-b9613a1ca5a0",
   "metadata": {},
   "outputs": [],
   "source": [
    "#the boolean data types is eiher a True or False\n",
    "# a=6 this is an assignment statement. in python assignment statement is done from right to left"
   ]
  },
  {
   "cell_type": "code",
   "execution_count": 4,
   "id": "5824933c-6765-4303-8309-e32942f6e9cd",
   "metadata": {},
   "outputs": [
    {
     "data": {
      "text/plain": [
       "False"
      ]
     },
     "execution_count": 4,
     "metadata": {},
     "output_type": "execute_result"
    }
   ],
   "source": [
    "5>9"
   ]
  },
  {
   "cell_type": "code",
   "execution_count": 6,
   "id": "0caa2823-9f82-4eaa-8136-e7c0cc2a03de",
   "metadata": {},
   "outputs": [
    {
     "data": {
      "text/plain": [
       "True"
      ]
     },
     "execution_count": 6,
     "metadata": {},
     "output_type": "execute_result"
    }
   ],
   "source": [
    "6>=6"
   ]
  },
  {
   "cell_type": "code",
   "execution_count": 8,
   "id": "2951989f-efbc-441d-9214-c490118a8796",
   "metadata": {},
   "outputs": [
    {
     "data": {
      "text/plain": [
       "True"
      ]
     },
     "execution_count": 8,
     "metadata": {},
     "output_type": "execute_result"
    }
   ],
   "source": [
    "#small letters have a larger value than capital letter\n",
    "\"precious\">\"Precious\""
   ]
  },
  {
   "cell_type": "code",
   "execution_count": 10,
   "id": "97e96548-9387-43ab-85a9-c0d2fbe0f964",
   "metadata": {},
   "outputs": [
    {
     "data": {
      "text/plain": [
       "False"
      ]
     },
     "execution_count": 10,
     "metadata": {},
     "output_type": "execute_result"
    }
   ],
   "source": [
    "\"Precious\">\"Precious\""
   ]
  },
  {
   "cell_type": "code",
   "execution_count": 14,
   "id": "cf033c3b-d9cf-4409-92d1-83444aadc4ca",
   "metadata": {},
   "outputs": [
    {
     "data": {
      "text/plain": [
       "True"
      ]
     },
     "execution_count": 14,
     "metadata": {},
     "output_type": "execute_result"
    }
   ],
   "source": [
    "\"Precious\"==\"Precious\""
   ]
  },
  {
   "cell_type": "code",
   "execution_count": 16,
   "id": "98c2de01-d550-4c22-99b2-a13f05e4cade",
   "metadata": {},
   "outputs": [
    {
     "data": {
      "text/plain": [
       "False"
      ]
     },
     "execution_count": 16,
     "metadata": {},
     "output_type": "execute_result"
    }
   ],
   "source": [
    "\"Ada\" > \"Anabel\""
   ]
  },
  {
   "cell_type": "code",
   "execution_count": 18,
   "id": "3c8ed009-c771-46c5-aedf-2daa3a564974",
   "metadata": {},
   "outputs": [
    {
     "data": {
      "text/plain": [
       "True"
      ]
     },
     "execution_count": 18,
     "metadata": {},
     "output_type": "execute_result"
    }
   ],
   "source": [
    "\"Anabel\"> \"Ada\""
   ]
  },
  {
   "cell_type": "code",
   "execution_count": 28,
   "id": "adf76592-f3aa-4b6b-b2f8-a0d46ff12bb9",
   "metadata": {},
   "outputs": [
    {
     "name": "stdin",
     "output_type": "stream",
     "text": [
      "what is your Age 11\n"
     ]
    },
    {
     "name": "stdout",
     "output_type": "stream",
     "text": [
      "You're a child\n"
     ]
    }
   ],
   "source": [
    "age=int(input(\"what's your Age:\"))\n",
    "if age>=18:\n",
    "    print(\"Nice one ! You're an Adult\")\n",
    "else:\n",
    "        print(\"You're a child\")"
   ]
  },
  {
   "cell_type": "code",
   "execution_count": 37,
   "id": "685713e6-8386-49f2-bd28-8b270a3bfe91",
   "metadata": {},
   "outputs": [
    {
     "name": "stdin",
     "output_type": "stream",
     "text": [
      "Enter score: 23\n"
     ]
    },
    {
     "name": "stdout",
     "output_type": "stream",
     "text": [
      "You failed\n"
     ]
    }
   ],
   "source": [
    "score=int(input(\"Enter score:\"))\n",
    "if score<40:\n",
    "    print(\"You failed\")\n",
    "else:\n",
    "    print(\"You're Promoted\")"
   ]
  },
  {
   "cell_type": "code",
   "execution_count": 67,
   "id": "1b59f574-03f3-427e-bab8-dabb4096e913",
   "metadata": {},
   "outputs": [
    {
     "name": "stdin",
     "output_type": "stream",
     "text": [
      "Enter score: 1009\n"
     ]
    },
    {
     "name": "stdout",
     "output_type": "stream",
     "text": [
      "Invalid Valid Entry!!!\n"
     ]
    }
   ],
   "source": [
    "score=int(input(\"Enter score:\"))\n",
    "if score<0:\n",
    "    print(\"Invalid Valid Entry!!!\")\n",
    "elif score<40:\n",
    "    print(\"You have to Repaet the class\")\n",
    "elif score <=50:\n",
    "    print(\"You have to Resit\")\n",
    "elif score >100:\n",
    "    print (\"Invalid Valid Entry!!!\")\n",
    "else:\n",
    "    print(\"Congratulations You're Promoted to the next class\") "
   ]
  },
  {
   "cell_type": "code",
   "execution_count": 75,
   "id": "b04a07fb-3f70-4703-bb85-bea5eda932af",
   "metadata": {},
   "outputs": [
    {
     "name": "stdin",
     "output_type": "stream",
     "text": [
      "Enter score: 99\n"
     ]
    },
    {
     "name": "stdout",
     "output_type": "stream",
     "text": [
      "Congratulations You're Promoted to the next class\n"
     ]
    }
   ],
   "source": [
    "score=int(input(\"Enter score:\"))\n",
    "if score<0 or score >100:\n",
    "    print(\"Invalid Valid Entry!!!\")\n",
    "elif score<40:\n",
    "    print(\"You have to Repaet the class\")\n",
    "elif score <=50:\n",
    "    print(\"You have to Resit\")\n",
    "else:\n",
    "    print(\"Congratulations You're Promoted to the next class\") "
   ]
  },
  {
   "cell_type": "code",
   "execution_count": 23,
   "id": "58a411ee-c9e8-4f9d-bfe0-849c269b2787",
   "metadata": {},
   "outputs": [
    {
     "name": "stdout",
     "output_type": "stream",
     "text": [
      "Menu:\n",
      "1. Garri and soup(1200/plate)\n",
      "2. Jellof Rice and Chicken(4500/platee)\n"
     ]
    },
    {
     "name": "stdin",
     "output_type": "stream",
     "text": [
      "choose 1 or 2: 1\n"
     ]
    },
    {
     "name": "stdout",
     "output_type": "stream",
     "text": [
      "You ordered Garri and Soup\n"
     ]
    },
    {
     "name": "stdin",
     "output_type": "stream",
     "text": [
      "Enter total plates: 4\n"
     ]
    },
    {
     "name": "stdout",
     "output_type": "stream",
     "text": [
      "Total Cost:4800\n"
     ]
    }
   ],
   "source": [
    "menu=\"\"\"Menu:\n",
    "1. Garri and soup(1200/plate)\n",
    "2. Jellof Rice and Chicken(4500/platee)\"\"\"\n",
    "print (menu)\n",
    "price_of_rice=4500\n",
    "price_of_garri=1200\n",
    "choice_of_meal=int(input(\"choose 1 or 2:\"))\n",
    "if choice_of_meal ==1:\n",
    "    print(\"You ordered Garri and Soup\")\n",
    "elif choice_of_meal ==2:\n",
    "    print(\"You ordered Jellof Rice And Stew\")\n",
    "else:\n",
    "    print(\"Invalid Entry!!!\")\n",
    "number_of_plates=int(input(\"Enter total plates:\"))\n",
    "if choice_of_meal==1:\n",
    "    total_cost=number_of_plates*price_of_garri\n",
    "else:\n",
    "    total_cost=number_of_plates*price_of_rice\n",
    "print(f\"Total Cost:{total_cost}\")\n",
    "\n",
    "if total_cost > 10000:\n",
    "    discount=0.1*total_cost\n",
    "    amount_to_pay=total_cost-discount\n",
    "    print(f\"You have a discount of {discount}\")\n",
    "    print(f\"New Total Cost is:{amount_to_pay}\")"
   ]
  },
  {
   "cell_type": "code",
   "execution_count": null,
   "id": "adfa13b5-b749-48cf-99f5-fc79794861a3",
   "metadata": {},
   "outputs": [],
   "source": []
  }
 ],
 "metadata": {
  "kernelspec": {
   "display_name": "Python 3 (ipykernel)",
   "language": "python",
   "name": "python3"
  },
  "language_info": {
   "codemirror_mode": {
    "name": "ipython",
    "version": 3
   },
   "file_extension": ".py",
   "mimetype": "text/x-python",
   "name": "python",
   "nbconvert_exporter": "python",
   "pygments_lexer": "ipython3",
   "version": "3.12.7"
  }
 },
 "nbformat": 4,
 "nbformat_minor": 5
}
