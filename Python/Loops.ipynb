{
 "cells": [
  {
   "cell_type": "code",
   "execution_count": 1,
   "id": "0ddb9dd1-c1b1-4981-a2e1-5a7da4e94c10",
   "metadata": {},
   "outputs": [
    {
     "data": {
      "text/plain": [
       "[0, 1, 2, 3]"
      ]
     },
     "execution_count": 1,
     "metadata": {},
     "output_type": "execute_result"
    }
   ],
   "source": [
    "list(range(4))"
   ]
  },
  {
   "cell_type": "code",
   "execution_count": 3,
   "id": "0b47db0b-3b24-4723-aa19-8b5196cc43bc",
   "metadata": {},
   "outputs": [
    {
     "data": {
      "text/plain": [
       "[0, 1, 2, 3, 4, 5, 6, 7, 8, 9]"
      ]
     },
     "execution_count": 3,
     "metadata": {},
     "output_type": "execute_result"
    }
   ],
   "source": [
    "list(range(10))"
   ]
  },
  {
   "cell_type": "code",
   "execution_count": 5,
   "id": "510a5fa3-e802-467f-83fc-93e3d844c185",
   "metadata": {},
   "outputs": [
    {
     "data": {
      "text/plain": [
       "[2, 3, 4, 5]"
      ]
     },
     "execution_count": 5,
     "metadata": {},
     "output_type": "execute_result"
    }
   ],
   "source": [
    "list(range(2,6))"
   ]
  },
  {
   "cell_type": "code",
   "execution_count": 7,
   "id": "5a58ec6d-c68b-40a2-a1b0-e3c9842d3185",
   "metadata": {},
   "outputs": [
    {
     "data": {
      "text/plain": [
       "[2, 5, 8]"
      ]
     },
     "execution_count": 7,
     "metadata": {},
     "output_type": "execute_result"
    }
   ],
   "source": [
    "list(range(2,10,3))\n",
    "#these three values simply means start, stop, step"
   ]
  },
  {
   "cell_type": "code",
   "execution_count": 9,
   "id": "495ef016-efca-4fe9-82a9-4848f47e04b8",
   "metadata": {},
   "outputs": [
    {
     "name": "stdout",
     "output_type": "stream",
     "text": [
      "Hello\n",
      "Hello\n",
      "Hello\n",
      "Hello\n",
      "Hello\n"
     ]
    }
   ],
   "source": [
    "for i in range(5):\n",
    "    print(\"Hello\")"
   ]
  },
  {
   "cell_type": "code",
   "execution_count": 11,
   "id": "34bd7be6-0c45-4e45-8c16-aeb5b42558b0",
   "metadata": {},
   "outputs": [
    {
     "name": "stdout",
     "output_type": "stream",
     "text": [
      "0\n",
      "1\n",
      "2\n",
      "3\n",
      "4\n"
     ]
    }
   ],
   "source": [
    "for precious in range(5):\n",
    "    print(precious)"
   ]
  },
  {
   "cell_type": "code",
   "execution_count": 13,
   "id": "63711a8a-e96e-4355-b508-535128a63821",
   "metadata": {},
   "outputs": [
    {
     "name": "stdout",
     "output_type": "stream",
     "text": [
      "precious\n",
      "precious\n",
      "precious\n",
      "precious\n",
      "precious\n"
     ]
    }
   ],
   "source": [
    "for precious in range(5):\n",
    "    print(\"precious\")"
   ]
  },
  {
   "cell_type": "code",
   "execution_count": 15,
   "id": "9bec10f4-c4d8-43a7-8d62-7f773f30ca8e",
   "metadata": {},
   "outputs": [
    {
     "name": "stdout",
     "output_type": "stream",
     "text": [
      "0\n",
      "3\n",
      "6\n",
      "9\n",
      "12\n"
     ]
    }
   ],
   "source": [
    "for precious in range(5):\n",
    "    print(precious*3)"
   ]
  },
  {
   "cell_type": "code",
   "execution_count": 19,
   "id": "b10d64ac-3bf2-48d8-801e-9ae86a7207e6",
   "metadata": {},
   "outputs": [
    {
     "name": "stdout",
     "output_type": "stream",
     "text": [
      "0\n",
      "2\n",
      "4\n",
      "6\n",
      "8\n",
      "10\n",
      "12\n",
      "14\n",
      "16\n",
      "18\n",
      "20\n",
      "22\n",
      "24\n",
      "26\n",
      "28\n",
      "30\n",
      "32\n",
      "34\n",
      "36\n",
      "38\n",
      "40\n",
      "42\n",
      "44\n",
      "46\n",
      "48\n",
      "50\n",
      "52\n",
      "54\n",
      "56\n",
      "58\n",
      "60\n",
      "62\n",
      "64\n",
      "66\n",
      "68\n",
      "70\n",
      "72\n",
      "74\n",
      "76\n",
      "78\n",
      "80\n",
      "82\n",
      "84\n",
      "86\n",
      "88\n",
      "90\n",
      "92\n",
      "94\n",
      "96\n",
      "98\n",
      "100\n"
     ]
    }
   ],
   "source": [
    "for even_numbers in range(0,101,2):\n",
    "    print(even_numbers)"
   ]
  },
  {
   "cell_type": "code",
   "execution_count": 33,
   "id": "2eef050f-b3df-4b13-90f8-f54468ba47e3",
   "metadata": {},
   "outputs": [
    {
     "name": "stdout",
     "output_type": "stream",
     "text": [
      "2\n",
      "6\n",
      "34\n",
      "78\n",
      "2\n",
      "80\n",
      "54\n",
      "54\n"
     ]
    }
   ],
   "source": [
    "#print even numbers only\n",
    "for numbers in [2,6,34,78,55,59,67,2,80,54,63,99,54,77,87]:\n",
    "    if numbers%2==0:\n",
    "        print(numbers)"
   ]
  },
  {
   "cell_type": "code",
   "execution_count": 35,
   "id": "dd6fd512-fbba-4361-be4e-6d5e5dc3631a",
   "metadata": {},
   "outputs": [
    {
     "name": "stdin",
     "output_type": "stream",
     "text": [
      "Enter your name precious\n"
     ]
    },
    {
     "name": "stdout",
     "output_type": "stream",
     "text": [
      "You're not allowed in\n"
     ]
    },
    {
     "name": "stdin",
     "output_type": "stream",
     "text": [
      "Enter your name Precious\n"
     ]
    },
    {
     "name": "stdout",
     "output_type": "stream",
     "text": [
      "You're not allowed in\n"
     ]
    },
    {
     "name": "stdin",
     "output_type": "stream",
     "text": [
      "Enter your name james\n"
     ]
    },
    {
     "name": "stdout",
     "output_type": "stream",
     "text": [
      "Fine, you can come in\n"
     ]
    },
    {
     "name": "stdin",
     "output_type": "stream",
     "text": [
      "Enter your name James\n"
     ]
    },
    {
     "name": "stdout",
     "output_type": "stream",
     "text": [
      "Fine, you can come in\n"
     ]
    },
    {
     "name": "stdin",
     "output_type": "stream",
     "text": [
      "Enter your name              Precious\n"
     ]
    },
    {
     "name": "stdout",
     "output_type": "stream",
     "text": [
      "You're not allowed in\n"
     ]
    }
   ],
   "source": [
    "for i in range(5):\n",
    "    name=input(\"Enter your name:\").upper()\n",
    "    if name.strip().startswith(\"P\"):\n",
    "        print(\"You're not allowed in\")\n",
    "    else:\n",
    "        print(\"Fine, you can come in\")"
   ]
  },
  {
   "cell_type": "code",
   "execution_count": null,
   "id": "3121033a-92b7-48eb-8955-9011da0c3fd0",
   "metadata": {},
   "outputs": [
    {
     "name": "stdin",
     "output_type": "stream",
     "text": [
      "Enter your name: precious\n",
      "Enter your name: james\n"
     ]
    },
    {
     "name": "stdout",
     "output_type": "stream",
     "text": [
      "Fine, you can come in\n"
     ]
    },
    {
     "name": "stdin",
     "output_type": "stream",
     "text": [
      "Enter your name: micheal\n"
     ]
    },
    {
     "name": "stdout",
     "output_type": "stream",
     "text": [
      "Fine, you can come in\n"
     ]
    },
    {
     "name": "stdin",
     "output_type": "stream",
     "text": [
      "Enter your name: george\n"
     ]
    },
    {
     "name": "stdout",
     "output_type": "stream",
     "text": [
      "Fine, you can come in\n"
     ]
    }
   ],
   "source": [
    "#countine is used to skip in loop\n",
    "for i in range(5):\n",
    "    name=input(\"Enter your name:\").upper()\n",
    "    if name.strip().startswith(\"P\"):\n",
    "        continue\n",
    "    else:\n",
    "        print(\"Fine, you can come in\")"
   ]
  },
  {
   "cell_type": "code",
   "execution_count": 7,
   "id": "2a1d61c7-c32d-4c54-a73a-26aa39b87f8b",
   "metadata": {},
   "outputs": [
    {
     "name": "stdout",
     "output_type": "stream",
     "text": [
      "0\n",
      "2\n",
      "4\n",
      "6\n",
      "7\n",
      "8\n"
     ]
    }
   ],
   "source": [
    "for i in range(10):\n",
    "    if i in [1,3,5,9]:\n",
    "        continue\n",
    "    else:\n",
    "        print(i)"
   ]
  },
  {
   "cell_type": "code",
   "execution_count": 13,
   "id": "0194957b-4022-4dac-8269-201df39ab5e9",
   "metadata": {},
   "outputs": [
    {
     "name": "stdout",
     "output_type": "stream",
     "text": [
      "Price\tDiscount\tNew_Price\n",
      "4.94\t2.96\t\t1.98\n",
      "9.95\t5.97\t\t3.98\n",
      "14.95\t8.97\t\t5.98\n",
      "19.95\t11.97\t\t7.98\n",
      "24.95\t14.97\t\t9.98\n"
     ]
    }
   ],
   "source": [
    "prices=[4.94, 9.95, 14.95, 19.95, 24.95]\n",
    "print(\"Price\\tDiscount\\tNew_Price\")\n",
    "for price in prices:\n",
    "    discount=0.6*price\n",
    "    new_price=price-discount\n",
    "    print(f\"{round(price,2)}\\t{round(discount,2)}\\t\\t{round(new_price,2)}\")"
   ]
  },
  {
   "cell_type": "code",
   "execution_count": null,
   "id": "36619370-95c8-4112-85bd-0021f96d16b0",
   "metadata": {},
   "outputs": [],
   "source": []
  }
 ],
 "metadata": {
  "kernelspec": {
   "display_name": "Python 3 (ipykernel)",
   "language": "python",
   "name": "python3"
  },
  "language_info": {
   "codemirror_mode": {
    "name": "ipython",
    "version": 3
   },
   "file_extension": ".py",
   "mimetype": "text/x-python",
   "name": "python",
   "nbconvert_exporter": "python",
   "pygments_lexer": "ipython3",
   "version": "3.12.7"
  }
 },
 "nbformat": 4,
 "nbformat_minor": 5
}
