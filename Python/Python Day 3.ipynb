{
 "cells": [
  {
   "cell_type": "markdown",
   "id": "09a9375e-6563-4846-90f0-e1d4eed1a44a",
   "metadata": {},
   "source": [
    "# Data Types\n",
    "* integer\n",
    "* float\n",
    "* complex\n",
    "* Boolean\n",
    "* Strings"
   ]
  },
  {
   "cell_type": "markdown",
   "id": "240bab4c-a7e9-4d40-a1dc-c908aa7e2c7a",
   "metadata": {},
   "source": [
    "# Strings Concatenation"
   ]
  },
  {
   "cell_type": "code",
   "execution_count": 10,
   "id": "7d499728-6c4a-4f91-8044-9123adddb8ab",
   "metadata": {},
   "outputs": [
    {
     "name": "stdout",
     "output_type": "stream",
     "text": [
      "Malachy Precious Chinenye\n"
     ]
    }
   ],
   "source": [
    "# it is the process of adding two or more strings together\n",
    "first_name = \"Precious\"\n",
    "Last_name =\"Malachy\"\n",
    "middle_name =\"Chinenye\"\n",
    "full_name=Last_name +\" \"+first_name+\" \"+middle_name\n",
    "print(full_name)"
   ]
  },
  {
   "cell_type": "markdown",
   "id": "0fbdbc17-48fa-4a0b-9044-756985cdc093",
   "metadata": {},
   "source": [
    "# Strings Interpolation"
   ]
  },
  {
   "cell_type": "code",
   "execution_count": 23,
   "id": "7840da6b-4470-4114-8c72-24205194fcf0",
   "metadata": {},
   "outputs": [
    {
     "name": "stdout",
     "output_type": "stream",
     "text": [
      "Malachy Precious Chinenye\n"
     ]
    }
   ],
   "source": [
    "first_name = \"Precious\"\n",
    "Last_name =\"Malachy\"\n",
    "middle_name =\"Chinenye\"\n",
    "full_name1 = f\"{Last_name} {first_name} {middle_name}\"\n",
    "print(full_name1)"
   ]
  },
  {
   "cell_type": "code",
   "execution_count": 25,
   "id": "5f249bc4-162f-4253-a332-be4e02f587ee",
   "metadata": {},
   "outputs": [
    {
     "name": "stdout",
     "output_type": "stream",
     "text": [
      "Malachy, Precious Chinenye\n"
     ]
    }
   ],
   "source": [
    "first_name = \"Precious\"\n",
    "Last_name =\"Malachy\"\n",
    "middle_name =\"Chinenye\"\n",
    "full_name1 = f\"{Last_name}, {first_name} {middle_name}\"\n",
    "print(full_name1)"
   ]
  },
  {
   "cell_type": "code",
   "execution_count": 31,
   "id": "c3c5c174-eb5b-484b-9a99-e50ee956f12f",
   "metadata": {},
   "outputs": [
    {
     "name": "stdout",
     "output_type": "stream",
     "text": [
      "My name is Malachy, Precious Chinenye. And i am from Imo state\n"
     ]
    }
   ],
   "source": [
    "first_name = \"Precious\"\n",
    "Last_name =\"Malachy\"\n",
    "middle_name =\"Chinenye\"\n",
    "full_name1 = f\"My name is {Last_name}, {first_name} {middle_name}. And i am from Imo state\"\n",
    "print(full_name1)"
   ]
  },
  {
   "cell_type": "code",
   "execution_count": 37,
   "id": "a907234f-aa5e-4053-b71d-145cd7202eaa",
   "metadata": {},
   "outputs": [
    {
     "name": "stdout",
     "output_type": "stream",
     "text": [
      "8\n",
      "62\n"
     ]
    }
   ],
   "source": [
    "# Len() is a function  used to know the total number of characters including spaces\n",
    "print(len(first_name))\n",
    "print(len(full_name1))"
   ]
  },
  {
   "cell_type": "code",
   "execution_count": 51,
   "id": "41aae894-c7e6-4bc9-ae7c-453c8f238fea",
   "metadata": {},
   "outputs": [
    {
     "data": {
      "text/plain": [
       "'P'"
      ]
     },
     "execution_count": 51,
     "metadata": {},
     "output_type": "execute_result"
    }
   ],
   "source": [
    "# indexing is the position of characters in a string and it starts with zero\n",
    "first_name[0]\n"
   ]
  },
  {
   "cell_type": "code",
   "execution_count": 47,
   "id": "924c3f65-d3db-41fa-93d0-0477690936bd",
   "metadata": {},
   "outputs": [
    {
     "name": "stdout",
     "output_type": "stream",
     "text": [
      "P\n",
      "r\n",
      "e\n",
      "c\n",
      "i\n",
      "o\n",
      "u\n",
      "s\n",
      "s\n",
      "u\n"
     ]
    }
   ],
   "source": [
    "print(first_name[0])\n",
    "print(first_name[1])\n",
    "print(first_name[2])\n",
    "print(first_name[3])\n",
    "print(first_name[4])\n",
    "print(first_name[5])\n",
    "print(first_name[6])\n",
    "print(first_name[7])\n",
    "print(first_name[-1])\n",
    "print(first_name[-2])"
   ]
  },
  {
   "cell_type": "code",
   "execution_count": 63,
   "id": "a041cc85-f3e9-493d-a116-f785324d7962",
   "metadata": {},
   "outputs": [
    {
     "name": "stdout",
     "output_type": "stream",
     "text": [
      "Pr\n",
      "Preciou\n",
      "recious\n",
      "Precious\n"
     ]
    }
   ],
   "source": [
    "#slicing its takes or stops  one less than the amount given \n",
    "print(first_name[0:2])\n",
    "print(first_name[0:7])\n",
    "print(first_name[1:8])\n",
    "print(first_name[0:8])"
   ]
  },
  {
   "cell_type": "code",
   "execution_count": 71,
   "id": "10e52c13-a324-4a6b-a854-b9be452c9c72",
   "metadata": {},
   "outputs": [
    {
     "name": "stdout",
     "output_type": "stream",
     "text": [
      "123\n",
      "23\n",
      "123\n",
      "1234567\n"
     ]
    }
   ],
   "source": [
    "digits=\"123456789\"\n",
    "print(digits[0:3])\n",
    "print(digits[1:3])\n",
    "print(digits[0:3])\n",
    "print(digits[0:7])"
   ]
  },
  {
   "cell_type": "code",
   "execution_count": 77,
   "id": "2e312898-79f2-4cb3-b4ed-a592aea5eac2",
   "metadata": {},
   "outputs": [
    {
     "name": "stdout",
     "output_type": "stream",
     "text": [
      "12\n",
      "13579\n",
      "2468\n"
     ]
    }
   ],
   "source": [
    "# print(digits[2::2]) the first digit 2 is the start index, while the second digit is empty which shows the end index but this case \n",
    "# its empty which tells to include all the character or values in the digits. while the last digit whic is 2 shows the interval \n",
    "digits=\"0123456789\"\n",
    "print(digits[1:3])\n",
    "print(digits[1::2])\n",
    "print(digits[2::2])"
   ]
  },
  {
   "cell_type": "markdown",
   "id": "cd98a5b3-3426-4f3e-aa13-dbc8663976de",
   "metadata": {},
   "source": [
    "# Methods"
   ]
  },
  {
   "cell_type": "code",
   "execution_count": 80,
   "id": "678fa346-a37d-4d98-8c03-bd7bb99aaa86",
   "metadata": {},
   "outputs": [
    {
     "data": {
      "text/plain": [
       "True"
      ]
     },
     "execution_count": 80,
     "metadata": {},
     "output_type": "execute_result"
    }
   ],
   "source": [
    "first_name.startswith('P')"
   ]
  },
  {
   "cell_type": "code",
   "execution_count": 82,
   "id": "2cfd9091-4bb2-4a24-978f-1a13f6a10f93",
   "metadata": {},
   "outputs": [
    {
     "data": {
      "text/plain": [
       "False"
      ]
     },
     "execution_count": 82,
     "metadata": {},
     "output_type": "execute_result"
    }
   ],
   "source": [
    "first_name.startswith('p')"
   ]
  },
  {
   "cell_type": "code",
   "execution_count": 84,
   "id": "f711541b-91ea-407b-bde6-c31a4c35c89a",
   "metadata": {},
   "outputs": [
    {
     "data": {
      "text/plain": [
       "False"
      ]
     },
     "execution_count": 84,
     "metadata": {},
     "output_type": "execute_result"
    }
   ],
   "source": [
    "first_name.startswith('M')"
   ]
  },
  {
   "cell_type": "code",
   "execution_count": null,
   "id": "abbd2e06-ca3e-410f-b0db-08523014e51b",
   "metadata": {},
   "outputs": [],
   "source": [
    "sentence= "
   ]
  }
 ],
 "metadata": {
  "kernelspec": {
   "display_name": "Python 3 (ipykernel)",
   "language": "python",
   "name": "python3"
  },
  "language_info": {
   "codemirror_mode": {
    "name": "ipython",
    "version": 3
   },
   "file_extension": ".py",
   "mimetype": "text/x-python",
   "name": "python",
   "nbconvert_exporter": "python",
   "pygments_lexer": "ipython3",
   "version": "3.12.7"
  }
 },
 "nbformat": 4,
 "nbformat_minor": 5
}
