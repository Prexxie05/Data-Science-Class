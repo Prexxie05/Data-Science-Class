{
 "cells": [
  {
   "cell_type": "code",
   "execution_count": 3,
   "id": "53d11047-b39a-43a2-996a-2108df40dea9",
   "metadata": {},
   "outputs": [
    {
     "name": "stdout",
     "output_type": "stream",
     "text": [
      "He has large brains \n",
      "But cannont offer full \n",
      "nine subjects\n"
     ]
    }
   ],
   "source": [
    "# Triple single quotes or triple double quote are mainly used for multilines.Example;\n",
    "Element=\"\"\"He has large brains \n",
    "But cannont offer full \n",
    "nine subjects\"\"\"\n",
    "print(Element)"
   ]
  },
  {
   "cell_type": "code",
   "execution_count": 7,
   "id": "38f1b9f4-1d60-4783-9150-689af8942da4",
   "metadata": {},
   "outputs": [
    {
     "data": {
      "text/plain": [
       "['Malachy, Pr', 'cious Chin', 'ny', '']"
      ]
     },
     "execution_count": 7,
     "metadata": {},
     "output_type": "execute_result"
    }
   ],
   "source": [
    "# split by e\n",
    "full_name= \"Malachy, Precious Chinenye\"\n",
    "full_name.split('e')"
   ]
  },
  {
   "cell_type": "code",
   "execution_count": 9,
   "id": "f490c129-456e-43ad-a954-89b970d70148",
   "metadata": {},
   "outputs": [
    {
     "data": {
      "text/plain": [
       "['Malachy,', 'Precious', 'Chinenye']"
      ]
     },
     "execution_count": 9,
     "metadata": {},
     "output_type": "execute_result"
    }
   ],
   "source": [
    "# split by space\n",
    "full_name= \"Malachy, Precious Chinenye\"\n",
    "full_name.split(' ')"
   ]
  },
  {
   "cell_type": "code",
   "execution_count": 17,
   "id": "5a6b8c0d-c336-441d-a6c7-bf14fb142d9c",
   "metadata": {},
   "outputs": [
    {
     "name": "stdin",
     "output_type": "stream",
     "text": [
      "Enter a Sentence: I am Malachy Precious Chinenye. A final year student of Biomedical technology\n"
     ]
    },
    {
     "name": "stdout",
     "output_type": "stream",
     "text": [
      "12\n"
     ]
    }
   ],
   "source": [
    "sentence=(input(\"Enter a Sentence:\"))\n",
    "sentence_list=len(sentence.split(\" \"))\n",
    "print (sentence_list)"
   ]
  },
  {
   "cell_type": "code",
   "execution_count": 19,
   "id": "48888343-e401-4454-8cbb-40af6f9202dc",
   "metadata": {},
   "outputs": [
    {
     "name": "stdin",
     "output_type": "stream",
     "text": [
      "Enter a Sentence:               i am      a girl        and i    am    from   Imo   state  Nigeria\n"
     ]
    },
    {
     "name": "stdout",
     "output_type": "stream",
     "text": [
      "48\n",
      "34\n"
     ]
    }
   ],
   "source": [
    "# strip() is used to remove empty spaces from the beginning and end of a sentence\n",
    "sentence=(input(\"Enter a Sentence:\"))\n",
    "sentence_list=len(sentence.split(\" \"))\n",
    "sentence_list2=len(sentence.strip().split(\" \"))\n",
    "print (sentence_list)\n",
    "print (sentence_list2)"
   ]
  },
  {
   "cell_type": "code",
   "execution_count": null,
   "id": "26f9e851-1abf-4b8f-9d7f-6650e76d68a9",
   "metadata": {},
   "outputs": [],
   "source": []
  },
  {
   "cell_type": "code",
   "execution_count": null,
   "id": "0804ca40-da66-4035-a61e-2ed5822c7622",
   "metadata": {},
   "outputs": [],
   "source": []
  }
 ],
 "metadata": {
  "kernelspec": {
   "display_name": "Python 3 (ipykernel)",
   "language": "python",
   "name": "python3"
  },
  "language_info": {
   "codemirror_mode": {
    "name": "ipython",
    "version": 3
   },
   "file_extension": ".py",
   "mimetype": "text/x-python",
   "name": "python",
   "nbconvert_exporter": "python",
   "pygments_lexer": "ipython3",
   "version": "3.12.7"
  }
 },
 "nbformat": 4,
 "nbformat_minor": 5
}
